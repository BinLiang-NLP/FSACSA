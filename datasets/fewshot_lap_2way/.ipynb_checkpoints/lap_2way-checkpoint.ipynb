{
 "cells": [
  {
   "cell_type": "code",
   "execution_count": 1,
   "id": "93839021",
   "metadata": {},
   "outputs": [],
   "source": [
    "import pandas as pd"
   ]
  },
  {
   "cell_type": "code",
   "execution_count": 2,
   "id": "af1ea065",
   "metadata": {},
   "outputs": [],
   "source": [
    "def read_file(address):\n",
    "    return pd.read_csv(address, sep=\"\\t\", header=None, names=['sentence','polarity'])"
   ]
  },
  {
   "cell_type": "code",
   "execution_count": 3,
   "id": "1a84e701",
   "metadata": {},
   "outputs": [],
   "source": [
    "ambience = read_file(\"./ambience\")\n",
    "anecdotes = read_file(\"./anecdotes_miscellaneous\")\n",
    "food = read_file(\"./food\")\n",
    "service = read_file(\"./service\")"
   ]
  },
  {
   "cell_type": "code",
   "execution_count": 4,
   "id": "95d945a0",
   "metadata": {},
   "outputs": [
    {
     "name": "stdout",
     "output_type": "stream",
     "text": [
      "978\n",
      "2630\n",
      "3130\n",
      "1456\n"
     ]
    }
   ],
   "source": [
    "print(ambience.size)\n",
    "print(anecdotes.size)\n",
    "print(food.size)\n",
    "print(service.size)"
   ]
  },
  {
   "cell_type": "code",
   "execution_count": 5,
   "id": "2032f46d",
   "metadata": {},
   "outputs": [],
   "source": [
    "polarity2num = {'positive':0,'negative':1,'neutral':2}\n",
    "aspect2num = {'food':0, 'anecdotes_miscellaneous':1, 'service':2, 'ambience':3}"
   ]
  },
  {
   "cell_type": "code",
   "execution_count": 6,
   "id": "4d3b25f1",
   "metadata": {},
   "outputs": [],
   "source": [
    "with open(\"./rest14_3way_anecdotes/train.txt\",\"w\") as t:\n",
    "    for i,row in ambience.iterrows():\n",
    "        sentence = row[0]\n",
    "        t.write(sentence+'\\n')\n",
    "    for i,row in food.iterrows():\n",
    "        sentence = row[0]\n",
    "        t.write(sentence+'\\n')\n",
    "    for i,row in service.iterrows():\n",
    "        sentence = row[0]\n",
    "        t.write(sentence+'\\n')\n",
    "        \n",
    "with open(\"./rest14_3way_anecdotes/test.txt\",\"w\") as t:\n",
    "    for i,row in anecdotes.iterrows():\n",
    "        sentence = row[0]\n",
    "        polarity = polarity2num[row[1]]\n",
    "        aspect = aspect2num['anecdotes_miscellaneous']\n",
    "        t.write(str(i)+'\\t'+str(aspect)+'\\t'+str(polarity)+'\\t'+sentence+'\\n')"
   ]
  },
  {
   "cell_type": "code",
   "execution_count": 7,
   "id": "5accf7f2",
   "metadata": {},
   "outputs": [],
   "source": [
    "with open(\"./rest14_3way_food/train.txt\",\"w\") as t:\n",
    "    for i,row in ambience.iterrows():\n",
    "        sentence = row[0]\n",
    "        t.write(sentence+'\\n')\n",
    "    for i,row in anecdotes.iterrows():\n",
    "        sentence = row[0]\n",
    "        t.write(sentence+'\\n')\n",
    "    for i,row in service.iterrows():\n",
    "        sentence = row[0]\n",
    "        t.write(sentence+'\\n')\n",
    "        \n",
    "with open(\"./rest14_3way_food/test.txt\",\"w\") as t:\n",
    "    for i,row in food.iterrows():\n",
    "        sentence = row[0]\n",
    "        polarity = polarity2num[row[1]]\n",
    "        aspect = aspect2num['food']\n",
    "        t.write(str(i)+'\\t'+str(aspect)+'\\t'+str(polarity)+'\\t'+sentence+'\\n')"
   ]
  },
  {
   "cell_type": "code",
   "execution_count": 8,
   "id": "38c05a27",
   "metadata": {},
   "outputs": [],
   "source": [
    "with open(\"./rest14_3way_service/train.txt\",\"w\") as t:\n",
    "    for i,row in ambience.iterrows():\n",
    "        sentence = row[0]\n",
    "        t.write(sentence+'\\n')\n",
    "    for i,row in anecdotes.iterrows():\n",
    "        sentence = row[0]\n",
    "        t.write(sentence+'\\n')\n",
    "    for i,row in food.iterrows():\n",
    "        sentence = row[0]\n",
    "        t.write(sentence+'\\n')\n",
    "        \n",
    "with open(\"./rest14_3way_service/test.txt\",\"w\") as t:\n",
    "    for i,row in service.iterrows():\n",
    "        sentence = row[0]\n",
    "        polarity = polarity2num[row[1]]\n",
    "        aspect = aspect2num['service']\n",
    "        t.write(str(i)+'\\t'+str(aspect)+'\\t'+str(polarity)+'\\t'+sentence+'\\n')"
   ]
  },
  {
   "cell_type": "code",
   "execution_count": 9,
   "id": "9ec5b99b",
   "metadata": {},
   "outputs": [],
   "source": [
    "with open(\"./rest14_3way_ambience/train.txt\",\"w\") as t:\n",
    "    for i,row in anecdotes.iterrows():\n",
    "        sentence = row[0]\n",
    "        t.write(sentence+'\\n')\n",
    "    for i,row in food.iterrows():\n",
    "        sentence = row[0]\n",
    "        t.write(sentence+'\\n')\n",
    "    for i,row in service.iterrows():\n",
    "        sentence = row[0]\n",
    "        t.write(sentence+'\\n')\n",
    "        \n",
    "with open(\"./rest14_3way_ambience/test.txt\",\"w\") as t:\n",
    "    for i,row in ambience.iterrows():\n",
    "        sentence = row[0]\n",
    "        polarity = polarity2num[row[1]]\n",
    "        aspect = aspect2num['ambience']\n",
    "        t.write(str(i)+'\\t'+str(aspect)+'\\t'+str(polarity)+'\\t'+sentence+'\\n')\n",
    "        "
   ]
  },
  {
   "cell_type": "code",
   "execution_count": null,
   "id": "fd6bba5b",
   "metadata": {},
   "outputs": [],
   "source": []
  }
 ],
 "metadata": {
  "kernelspec": {
   "display_name": "Python 3",
   "language": "python",
   "name": "python3"
  },
  "language_info": {
   "codemirror_mode": {
    "name": "ipython",
    "version": 3
   },
   "file_extension": ".py",
   "mimetype": "text/x-python",
   "name": "python",
   "nbconvert_exporter": "python",
   "pygments_lexer": "ipython3",
   "version": "3.7.4"
  }
 },
 "nbformat": 4,
 "nbformat_minor": 5
}
