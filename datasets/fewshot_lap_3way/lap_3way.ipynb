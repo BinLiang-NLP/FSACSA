{
 "cells": [
  {
   "cell_type": "code",
   "execution_count": 1,
   "id": "93839021",
   "metadata": {},
   "outputs": [],
   "source": [
    "import pandas as pd"
   ]
  },
  {
   "cell_type": "code",
   "execution_count": 2,
   "id": "af1ea065",
   "metadata": {},
   "outputs": [],
   "source": [
    "def read_file(address):\n",
    "    return pd.read_csv(address, sep=\"\\t\", header=None, names=['sentence','polarity'])"
   ]
  },
  {
   "cell_type": "code",
   "execution_count": 4,
   "id": "1a84e701",
   "metadata": {},
   "outputs": [],
   "source": [
    "design = read_file(\"./LAPTOP#DESIGN_FEATURES\")\n",
    "laptop = read_file(\"./LAPTOP#GENERAL\")\n",
    "miscellaneous = read_file(\"./LAPTOP#MISCELLANEOUS\")\n",
    "price = read_file(\"./LAPTOP#PRICE\")"
   ]
  },
  {
   "cell_type": "code",
   "execution_count": 5,
   "id": "2032f46d",
   "metadata": {},
   "outputs": [],
   "source": [
    "polarity2num = {'positive':0,'negative':1,'neutral':2}\n",
    "aspect2num = {'design':0, 'laptop':1, 'miscellaneous':2, 'price':3}"
   ]
  },
  {
   "cell_type": "code",
   "execution_count": 7,
   "id": "2a1cbc28",
   "metadata": {},
   "outputs": [],
   "source": [
    "aspects = [design,laptop,miscellaneous,price]"
   ]
  },
  {
   "cell_type": "code",
   "execution_count": 8,
   "id": "eebbd246",
   "metadata": {},
   "outputs": [],
   "source": [
    "with open(\"./lap_3way_design/train.txt\",\"w\") as t:\n",
    "    for dataframe in aspects[1:]:\n",
    "        for i,row in dataframe.iterrows():\n",
    "            sentence = row[0]\n",
    "            t.write(sentence+'\\n')\n",
    "        \n",
    "with open(\"./lap_3way_design/test.txt\",\"w\") as t:\n",
    "    for i,row in design.iterrows():\n",
    "        sentence = row[0]\n",
    "        polarity = polarity2num[row[1]]\n",
    "        aspect = aspect2num['design']\n",
    "        t.write(str(i)+'\\t'+str(aspect)+'\\t'+str(polarity)+'\\t'+sentence+'\\n')"
   ]
  },
  {
   "cell_type": "code",
   "execution_count": 9,
   "id": "465beee3",
   "metadata": {},
   "outputs": [],
   "source": [
    "with open(\"./lap_3way_laptop/train.txt\",\"w\") as t:\n",
    "    for dataframe in aspects[:1]:\n",
    "        for i,row in dataframe.iterrows():\n",
    "            sentence = row[0]\n",
    "            t.write(sentence+'\\n')\n",
    "    for dataframe in aspects[2:]:\n",
    "        for i,row in dataframe.iterrows():\n",
    "            sentence = row[0]\n",
    "            t.write(sentence+'\\n')\n",
    "        \n",
    "with open(\"./lap_3way_laptop/test.txt\",\"w\") as t:\n",
    "    for i,row in laptop.iterrows():\n",
    "        sentence = row[0]\n",
    "        polarity = polarity2num[row[1]]\n",
    "        aspect = aspect2num['laptop']\n",
    "        t.write(str(i)+'\\t'+str(aspect)+'\\t'+str(polarity)+'\\t'+sentence+'\\n')"
   ]
  },
  {
   "cell_type": "code",
   "execution_count": 10,
   "id": "6becfb84",
   "metadata": {},
   "outputs": [],
   "source": [
    "with open(\"./lap_3way_miscellaneous/train.txt\",\"w\") as t:\n",
    "    for dataframe in aspects[:2]:\n",
    "        for i,row in dataframe.iterrows():\n",
    "            sentence = row[0]\n",
    "            t.write(sentence+'\\n')\n",
    "    for dataframe in aspects[3:]:\n",
    "        for i,row in dataframe.iterrows():\n",
    "            sentence = row[0]\n",
    "            t.write(sentence+'\\n')\n",
    "        \n",
    "with open(\"./lap_3way_miscellaneous/test.txt\",\"w\") as t:\n",
    "    for i,row in miscellaneous.iterrows():\n",
    "        sentence = row[0]\n",
    "        polarity = polarity2num[row[1]]\n",
    "        aspect = aspect2num['miscellaneous']\n",
    "        t.write(str(i)+'\\t'+str(aspect)+'\\t'+str(polarity)+'\\t'+sentence+'\\n')"
   ]
  },
  {
   "cell_type": "code",
   "execution_count": 11,
   "id": "bb2e5263",
   "metadata": {},
   "outputs": [],
   "source": [
    "with open(\"./lap_3way_price/train.txt\",\"w\") as t:\n",
    "    for dataframe in aspects[:3]:\n",
    "        for i,row in dataframe.iterrows():\n",
    "            sentence = row[0]\n",
    "            t.write(sentence+'\\n')\n",
    "        \n",
    "with open(\"./lap_3way_price/test.txt\",\"w\") as t:\n",
    "    for i,row in price.iterrows():\n",
    "        sentence = row[0]\n",
    "        polarity = polarity2num[row[1]]\n",
    "        aspect = aspect2num['price']\n",
    "        t.write(str(i)+'\\t'+str(aspect)+'\\t'+str(polarity)+'\\t'+sentence+'\\n')"
   ]
  },
  {
   "cell_type": "code",
   "execution_count": null,
   "id": "6a928314",
   "metadata": {},
   "outputs": [],
   "source": []
  }
 ],
 "metadata": {
  "kernelspec": {
   "display_name": "Python 3",
   "language": "python",
   "name": "python3"
  },
  "language_info": {
   "codemirror_mode": {
    "name": "ipython",
    "version": 3
   },
   "file_extension": ".py",
   "mimetype": "text/x-python",
   "name": "python",
   "nbconvert_exporter": "python",
   "pygments_lexer": "ipython3",
   "version": "3.7.4"
  }
 },
 "nbformat": 4,
 "nbformat_minor": 5
}
