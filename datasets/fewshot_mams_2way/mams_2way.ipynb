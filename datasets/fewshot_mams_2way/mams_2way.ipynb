{
 "cells": [
  {
   "cell_type": "code",
   "execution_count": 1,
   "id": "93839021",
   "metadata": {},
   "outputs": [],
   "source": [
    "import pandas as pd"
   ]
  },
  {
   "cell_type": "code",
   "execution_count": 2,
   "id": "af1ea065",
   "metadata": {},
   "outputs": [],
   "source": [
    "def read_file(address):\n",
    "    return pd.read_csv(address, sep=\"\\t\", header=None, names=['sentence','polarity'])"
   ]
  },
  {
   "cell_type": "code",
   "execution_count": 3,
   "id": "1a84e701",
   "metadata": {},
   "outputs": [],
   "source": [
    "ambience = read_file(\"./ambience\")\n",
    "food = read_file(\"./food\")\n",
    "menu = read_file(\"./menu\")\n",
    "miscellaneous = read_file(\"./miscellaneous\")\n",
    "place = read_file(\"./place\")\n",
    "price = read_file(\"./price\")\n",
    "service = read_file(\"./service\")\n",
    "staff = read_file(\"./staff\")"
   ]
  },
  {
   "cell_type": "code",
   "execution_count": 4,
   "id": "2032f46d",
   "metadata": {},
   "outputs": [],
   "source": [
    "polarity2num = {'positive':0,'negative':1,'neutral':2}\n",
    "aspect2num = {'ambience':0, 'food':1, 'menu':2, 'miscellaneous':3, 'place':4, 'price':5, 'service':6, 'staff':7}"
   ]
  },
  {
   "cell_type": "code",
   "execution_count": 5,
   "id": "2a1cbc28",
   "metadata": {},
   "outputs": [],
   "source": [
    "aspects = [ambience,food,menu,miscellaneous,place,price,service,staff]"
   ]
  },
  {
   "cell_type": "code",
   "execution_count": 6,
   "id": "4d3b25f1",
   "metadata": {},
   "outputs": [],
   "source": [
    "with open(\"./mams_ambience/train.txt\",\"w\") as t:\n",
    "    for dataframe in aspects[1:]:\n",
    "        for i,row in dataframe.iterrows():\n",
    "            sentence = row[0]\n",
    "            t.write(sentence+'\\n')\n",
    "        \n",
    "with open(\"./mams_ambience/test.txt\",\"w\") as t:\n",
    "    for i,row in ambience.iterrows():\n",
    "        sentence = row[0]\n",
    "        polarity = polarity2num[row[1]]\n",
    "        aspect = aspect2num['ambience']\n",
    "        t.write(str(i)+'\\t'+str(aspect)+'\\t'+str(polarity)+'\\t'+sentence+'\\n')"
   ]
  },
  {
   "cell_type": "code",
   "execution_count": 7,
   "id": "6a928314",
   "metadata": {},
   "outputs": [],
   "source": [
    "with open(\"./mams_food/train.txt\",\"w\") as t:\n",
    "    for dataframe in aspects[:1]:\n",
    "        for i,row in dataframe.iterrows():\n",
    "            sentence = row[0]\n",
    "            t.write(sentence+'\\n')\n",
    "    for dataframe in aspects[2:]:\n",
    "        for i,row in dataframe.iterrows():\n",
    "            sentence = row[0]\n",
    "            t.write(sentence+'\\n')\n",
    "        \n",
    "with open(\"./mams_food/test.txt\",\"w\") as t:\n",
    "    for i,row in food.iterrows():\n",
    "        sentence = row[0]\n",
    "        polarity = polarity2num[row[1]]\n",
    "        aspect = aspect2num['food']\n",
    "        t.write(str(i)+'\\t'+str(aspect)+'\\t'+str(polarity)+'\\t'+sentence+'\\n')"
   ]
  },
  {
   "cell_type": "code",
   "execution_count": 8,
   "id": "fb7b7538",
   "metadata": {},
   "outputs": [],
   "source": [
    "with open(\"./mams_menu/train.txt\",\"w\") as t:\n",
    "    for dataframe in aspects[:2]:\n",
    "        for i,row in dataframe.iterrows():\n",
    "            sentence = row[0]\n",
    "            t.write(sentence+'\\n')\n",
    "    for dataframe in aspects[3:]:\n",
    "        for i,row in dataframe.iterrows():\n",
    "            sentence = row[0]\n",
    "            t.write(sentence+'\\n')\n",
    "        \n",
    "with open(\"./mams_menu/test.txt\",\"w\") as t:\n",
    "    for i,row in menu.iterrows():\n",
    "        sentence = row[0]\n",
    "        polarity = polarity2num[row[1]]\n",
    "        aspect = aspect2num['menu']\n",
    "        t.write(str(i)+'\\t'+str(aspect)+'\\t'+str(polarity)+'\\t'+sentence+'\\n')"
   ]
  },
  {
   "cell_type": "code",
   "execution_count": 9,
   "id": "5cb3c498",
   "metadata": {},
   "outputs": [],
   "source": [
    "with open(\"./mams_miscellaneous/train.txt\",\"w\") as t:\n",
    "    for dataframe in aspects[:3]:\n",
    "        for i,row in dataframe.iterrows():\n",
    "            sentence = row[0]\n",
    "            t.write(sentence+'\\n')\n",
    "    for dataframe in aspects[4:]:\n",
    "        for i,row in dataframe.iterrows():\n",
    "            sentence = row[0]\n",
    "            t.write(sentence+'\\n')\n",
    "        \n",
    "with open(\"./mams_miscellaneous/test.txt\",\"w\") as t:\n",
    "    for i,row in miscellaneous.iterrows():\n",
    "        sentence = row[0]\n",
    "        polarity = polarity2num[row[1]]\n",
    "        aspect = aspect2num['miscellaneous']\n",
    "        t.write(str(i)+'\\t'+str(aspect)+'\\t'+str(polarity)+'\\t'+sentence+'\\n')"
   ]
  },
  {
   "cell_type": "code",
   "execution_count": 10,
   "id": "403ceb0d",
   "metadata": {},
   "outputs": [],
   "source": [
    "with open(\"./mams_place/train.txt\",\"w\") as t:\n",
    "    for dataframe in aspects[:4]:\n",
    "        for i,row in dataframe.iterrows():\n",
    "            sentence = row[0]\n",
    "            t.write(sentence+'\\n')\n",
    "    for dataframe in aspects[5:]:\n",
    "        for i,row in dataframe.iterrows():\n",
    "            sentence = row[0]\n",
    "            t.write(sentence+'\\n')\n",
    "        \n",
    "with open(\"./mams_place/test.txt\",\"w\") as t:\n",
    "    for i,row in place.iterrows():\n",
    "        sentence = row[0]\n",
    "        polarity = polarity2num[row[1]]\n",
    "        aspect = aspect2num['place']\n",
    "        t.write(str(i)+'\\t'+str(aspect)+'\\t'+str(polarity)+'\\t'+sentence+'\\n')"
   ]
  },
  {
   "cell_type": "code",
   "execution_count": 11,
   "id": "124fab0a",
   "metadata": {},
   "outputs": [],
   "source": [
    "with open(\"./mams_price/train.txt\",\"w\") as t:\n",
    "    for dataframe in aspects[:5]:\n",
    "        for i,row in dataframe.iterrows():\n",
    "            sentence = row[0]\n",
    "            t.write(sentence+'\\n')\n",
    "    for dataframe in aspects[6:]:\n",
    "        for i,row in dataframe.iterrows():\n",
    "            sentence = row[0]\n",
    "            t.write(sentence+'\\n')\n",
    "        \n",
    "with open(\"./mams_price/test.txt\",\"w\") as t:\n",
    "    for i,row in price.iterrows():\n",
    "        sentence = row[0]\n",
    "        polarity = polarity2num[row[1]]\n",
    "        aspect = aspect2num['price']\n",
    "        t.write(str(i)+'\\t'+str(aspect)+'\\t'+str(polarity)+'\\t'+sentence+'\\n')"
   ]
  },
  {
   "cell_type": "code",
   "execution_count": 12,
   "id": "9a5c163c",
   "metadata": {},
   "outputs": [],
   "source": [
    "with open(\"./mams_service/train.txt\",\"w\") as t:\n",
    "    for dataframe in aspects[:6]:\n",
    "        for i,row in dataframe.iterrows():\n",
    "            sentence = row[0]\n",
    "            t.write(sentence+'\\n')\n",
    "    for dataframe in aspects[7:]:\n",
    "        for i,row in dataframe.iterrows():\n",
    "            sentence = row[0]\n",
    "            t.write(sentence+'\\n')\n",
    "        \n",
    "with open(\"./mams_service/test.txt\",\"w\") as t:\n",
    "    for i,row in service.iterrows():\n",
    "        sentence = row[0]\n",
    "        polarity = polarity2num[row[1]]\n",
    "        aspect = aspect2num['service']\n",
    "        t.write(str(i)+'\\t'+str(aspect)+'\\t'+str(polarity)+'\\t'+sentence+'\\n')"
   ]
  },
  {
   "cell_type": "code",
   "execution_count": 13,
   "id": "bbdf4b26",
   "metadata": {},
   "outputs": [],
   "source": [
    "with open(\"./mams_staff/train.txt\",\"w\") as t:\n",
    "    for dataframe in aspects[:7]:\n",
    "        for i,row in dataframe.iterrows():\n",
    "            sentence = row[0]\n",
    "            t.write(sentence+'\\n')\n",
    "        \n",
    "with open(\"./mams_staff/test.txt\",\"w\") as t:\n",
    "    for i,row in staff.iterrows():\n",
    "        sentence = row[0]\n",
    "        polarity = polarity2num[row[1]]\n",
    "        aspect = aspect2num['staff']\n",
    "        t.write(str(i)+'\\t'+str(aspect)+'\\t'+str(polarity)+'\\t'+sentence+'\\n')"
   ]
  },
  {
   "cell_type": "code",
   "execution_count": null,
   "id": "ee7f6172",
   "metadata": {},
   "outputs": [],
   "source": []
  },
  {
   "cell_type": "code",
   "execution_count": null,
   "id": "921313d2",
   "metadata": {},
   "outputs": [],
   "source": []
  }
 ],
 "metadata": {
  "kernelspec": {
   "display_name": "Python 3",
   "language": "python",
   "name": "python3"
  },
  "language_info": {
   "codemirror_mode": {
    "name": "ipython",
    "version": 3
   },
   "file_extension": ".py",
   "mimetype": "text/x-python",
   "name": "python",
   "nbconvert_exporter": "python",
   "pygments_lexer": "ipython3",
   "version": "3.7.4"
  }
 },
 "nbformat": 4,
 "nbformat_minor": 5
}
