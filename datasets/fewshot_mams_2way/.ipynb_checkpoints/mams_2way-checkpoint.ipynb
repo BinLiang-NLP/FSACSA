{
 "cells": [
  {
   "cell_type": "code",
   "execution_count": 1,
   "id": "93839021",
   "metadata": {},
   "outputs": [],
   "source": [
    "import pandas as pd"
   ]
  },
  {
   "cell_type": "code",
   "execution_count": 2,
   "id": "af1ea065",
   "metadata": {},
   "outputs": [],
   "source": [
    "def read_file(address):\n",
    "    return pd.read_csv(address, sep=\"\\t\", header=None, names=['sentence','polarity'])"
   ]
  },
  {
   "cell_type": "code",
   "execution_count": 3,
   "id": "1a84e701",
   "metadata": {},
   "outputs": [],
   "source": [
    "ambience = read_file(\"./AMBIENCE#GENERAL\")\n",
    "food = read_file(\"./FOOD#PRICES\")\n",
    "menu = read_file(\"./FOOD#QUALITY\")\n",
    "miscellaneous = read_file(\"./RESTAURANT#MISCELLANEOUS\")\n",
    "place = read_file(\"./FOOD#STYLE_OPTIONS\")\n",
    "price = read_file(\"./RESTAURANT#PRICES\")\n",
    "restaurant = read_file(\"./RESTAURANT#GENERAL\")\n",
    "\n",
    "\n",
    "service = read_file(\"./SERVICE#GENERAL\")"
   ]
  },
  {
   "cell_type": "code",
   "execution_count": 4,
   "id": "2032f46d",
   "metadata": {},
   "outputs": [],
   "source": [
    "polarity2num = {'positive':0,'negative':1,'neutral':2}\n",
    "aspect2num = {'ambience':0, 'food_price':1, 'quality':2, 'style':3, 'restaurant':4, 'miscellaneous':5, 'price':6, 'service':7}"
   ]
  },
  {
   "cell_type": "code",
   "execution_count": 7,
   "id": "2a1cbc28",
   "metadata": {},
   "outputs": [],
   "source": [
    "aspects = [ambience,food_price,quality,style,restaurant,miscellaneous,price,service]"
   ]
  },
  {
   "cell_type": "code",
   "execution_count": 8,
   "id": "4d3b25f1",
   "metadata": {},
   "outputs": [],
   "source": [
    "with open(\"./rest_2way_ambience/train.txt\",\"w\") as t:\n",
    "    for dataframe in aspects[1:]:\n",
    "        for i,row in dataframe.iterrows():\n",
    "            sentence = row[0]\n",
    "            t.write(sentence+'\\n')\n",
    "        \n",
    "with open(\"./rest_2way_ambience/test.txt\",\"w\") as t:\n",
    "    for i,row in ambience.iterrows():\n",
    "        sentence = row[0]\n",
    "        polarity = polarity2num[row[1]]\n",
    "        aspect = aspect2num['ambience']\n",
    "        t.write(str(i)+'\\t'+str(aspect)+'\\t'+str(polarity)+'\\t'+sentence+'\\n')"
   ]
  },
  {
   "cell_type": "code",
   "execution_count": 9,
   "id": "6a928314",
   "metadata": {},
   "outputs": [],
   "source": [
    "with open(\"./rest_2way_food_price/train.txt\",\"w\") as t:\n",
    "    for dataframe in aspects[:1]:\n",
    "        for i,row in dataframe.iterrows():\n",
    "            sentence = row[0]\n",
    "            t.write(sentence+'\\n')\n",
    "    for dataframe in aspects[2:]:\n",
    "        for i,row in dataframe.iterrows():\n",
    "            sentence = row[0]\n",
    "            t.write(sentence+'\\n')\n",
    "        \n",
    "with open(\"./rest_2way_food_price/test.txt\",\"w\") as t:\n",
    "    for i,row in food_price.iterrows():\n",
    "        sentence = row[0]\n",
    "        polarity = polarity2num[row[1]]\n",
    "        aspect = aspect2num['food_price']\n",
    "        t.write(str(i)+'\\t'+str(aspect)+'\\t'+str(polarity)+'\\t'+sentence+'\\n')"
   ]
  },
  {
   "cell_type": "code",
   "execution_count": 10,
   "id": "fb7b7538",
   "metadata": {},
   "outputs": [],
   "source": [
    "with open(\"./rest_2way_quality/train.txt\",\"w\") as t:\n",
    "    for dataframe in aspects[:2]:\n",
    "        for i,row in dataframe.iterrows():\n",
    "            sentence = row[0]\n",
    "            t.write(sentence+'\\n')\n",
    "    for dataframe in aspects[3:]:\n",
    "        for i,row in dataframe.iterrows():\n",
    "            sentence = row[0]\n",
    "            t.write(sentence+'\\n')\n",
    "        \n",
    "with open(\"./rest_2way_quality/test.txt\",\"w\") as t:\n",
    "    for i,row in quality.iterrows():\n",
    "        sentence = row[0]\n",
    "        polarity = polarity2num[row[1]]\n",
    "        aspect = aspect2num['quality']\n",
    "        t.write(str(i)+'\\t'+str(aspect)+'\\t'+str(polarity)+'\\t'+sentence+'\\n')"
   ]
  },
  {
   "cell_type": "code",
   "execution_count": 11,
   "id": "5cb3c498",
   "metadata": {},
   "outputs": [],
   "source": [
    "with open(\"./rest_2way_style/train.txt\",\"w\") as t:\n",
    "    for dataframe in aspects[:3]:\n",
    "        for i,row in dataframe.iterrows():\n",
    "            sentence = row[0]\n",
    "            t.write(sentence+'\\n')\n",
    "    for dataframe in aspects[4:]:\n",
    "        for i,row in dataframe.iterrows():\n",
    "            sentence = row[0]\n",
    "            t.write(sentence+'\\n')\n",
    "        \n",
    "with open(\"./rest_2way_style/test.txt\",\"w\") as t:\n",
    "    for i,row in style.iterrows():\n",
    "        sentence = row[0]\n",
    "        polarity = polarity2num[row[1]]\n",
    "        aspect = aspect2num['style']\n",
    "        t.write(str(i)+'\\t'+str(aspect)+'\\t'+str(polarity)+'\\t'+sentence+'\\n')"
   ]
  },
  {
   "cell_type": "code",
   "execution_count": 12,
   "id": "403ceb0d",
   "metadata": {},
   "outputs": [],
   "source": [
    "with open(\"./rest_2way_restaurant/train.txt\",\"w\") as t:\n",
    "    for dataframe in aspects[:4]:\n",
    "        for i,row in dataframe.iterrows():\n",
    "            sentence = row[0]\n",
    "            t.write(sentence+'\\n')\n",
    "    for dataframe in aspects[5:]:\n",
    "        for i,row in dataframe.iterrows():\n",
    "            sentence = row[0]\n",
    "            t.write(sentence+'\\n')\n",
    "        \n",
    "with open(\"./rest_2way_restaurant/test.txt\",\"w\") as t:\n",
    "    for i,row in restaurant.iterrows():\n",
    "        sentence = row[0]\n",
    "        polarity = polarity2num[row[1]]\n",
    "        aspect = aspect2num['restaurant']\n",
    "        t.write(str(i)+'\\t'+str(aspect)+'\\t'+str(polarity)+'\\t'+sentence+'\\n')"
   ]
  },
  {
   "cell_type": "code",
   "execution_count": 13,
   "id": "124fab0a",
   "metadata": {},
   "outputs": [],
   "source": [
    "with open(\"./rest_2way_miscellaneous/train.txt\",\"w\") as t:\n",
    "    for dataframe in aspects[:5]:\n",
    "        for i,row in dataframe.iterrows():\n",
    "            sentence = row[0]\n",
    "            t.write(sentence+'\\n')\n",
    "    for dataframe in aspects[6:]:\n",
    "        for i,row in dataframe.iterrows():\n",
    "            sentence = row[0]\n",
    "            t.write(sentence+'\\n')\n",
    "        \n",
    "with open(\"./rest_2way_miscellaneous/test.txt\",\"w\") as t:\n",
    "    for i,row in miscellaneous.iterrows():\n",
    "        sentence = row[0]\n",
    "        polarity = polarity2num[row[1]]\n",
    "        aspect = aspect2num['miscellaneous']\n",
    "        t.write(str(i)+'\\t'+str(aspect)+'\\t'+str(polarity)+'\\t'+sentence+'\\n')"
   ]
  },
  {
   "cell_type": "code",
   "execution_count": 14,
   "id": "9a5c163c",
   "metadata": {},
   "outputs": [],
   "source": [
    "with open(\"./rest_2way_price/train.txt\",\"w\") as t:\n",
    "    for dataframe in aspects[:6]:\n",
    "        for i,row in dataframe.iterrows():\n",
    "            sentence = row[0]\n",
    "            t.write(sentence+'\\n')\n",
    "    for dataframe in aspects[7:]:\n",
    "        for i,row in dataframe.iterrows():\n",
    "            sentence = row[0]\n",
    "            t.write(sentence+'\\n')\n",
    "        \n",
    "with open(\"./rest_2way_price/test.txt\",\"w\") as t:\n",
    "    for i,row in price.iterrows():\n",
    "        sentence = row[0]\n",
    "        polarity = polarity2num[row[1]]\n",
    "        aspect = aspect2num['price']\n",
    "        t.write(str(i)+'\\t'+str(aspect)+'\\t'+str(polarity)+'\\t'+sentence+'\\n')"
   ]
  },
  {
   "cell_type": "code",
   "execution_count": 15,
   "id": "bbdf4b26",
   "metadata": {},
   "outputs": [],
   "source": [
    "with open(\"./rest_2way_service/train.txt\",\"w\") as t:\n",
    "    for dataframe in aspects[:7]:\n",
    "        for i,row in dataframe.iterrows():\n",
    "            sentence = row[0]\n",
    "            t.write(sentence+'\\n')\n",
    "        \n",
    "with open(\"./rest_2way_service/test.txt\",\"w\") as t:\n",
    "    for i,row in service.iterrows():\n",
    "        sentence = row[0]\n",
    "        polarity = polarity2num[row[1]]\n",
    "        aspect = aspect2num['service']\n",
    "        t.write(str(i)+'\\t'+str(aspect)+'\\t'+str(polarity)+'\\t'+sentence+'\\n')"
   ]
  },
  {
   "cell_type": "code",
   "execution_count": null,
   "id": "ee7f6172",
   "metadata": {},
   "outputs": [],
   "source": []
  }
 ],
 "metadata": {
  "kernelspec": {
   "display_name": "Python 3",
   "language": "python",
   "name": "python3"
  },
  "language_info": {
   "codemirror_mode": {
    "name": "ipython",
    "version": 3
   },
   "file_extension": ".py",
   "mimetype": "text/x-python",
   "name": "python",
   "nbconvert_exporter": "python",
   "pygments_lexer": "ipython3",
   "version": "3.7.4"
  }
 },
 "nbformat": 4,
 "nbformat_minor": 5
}
