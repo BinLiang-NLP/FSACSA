{
 "cells": [
  {
   "cell_type": "code",
   "execution_count": 1,
   "id": "93839021",
   "metadata": {},
   "outputs": [],
   "source": [
    "import pandas as pd"
   ]
  },
  {
   "cell_type": "code",
   "execution_count": 2,
   "id": "af1ea065",
   "metadata": {},
   "outputs": [],
   "source": [
    "def read_file(address):\n",
    "    return pd.read_csv(address, sep=\"\\t\", header=None, names=['sentence','polarity'])"
   ]
  },
  {
   "cell_type": "code",
   "execution_count": 3,
   "id": "1a84e701",
   "metadata": {},
   "outputs": [],
   "source": [
    "ambience = read_file(\"./AMBIENCE#GENERAL\")\n",
    "food_price = read_file(\"./FOOD#PRICES\")\n",
    "quality = read_file(\"./FOOD#QUALITY\")\n",
    "style = read_file(\"./FOOD#STYLE_OPTIONS\")\n",
    "restaurant = read_file(\"./RESTAURANT#GENERAL\")\n",
    "miscellaneous = read_file(\"./RESTAURANT#MISCELLANEOUS\")\n",
    "price = read_file(\"./RESTAURANT#PRICES\")\n",
    "service = read_file(\"./SERVICE#GENERAL\")"
   ]
  },
  {
   "cell_type": "code",
   "execution_count": 4,
   "id": "2032f46d",
   "metadata": {},
   "outputs": [],
   "source": [
    "polarity2num = {'positive':0,'negative':1,'neutral':2}\n",
    "aspect2num = {'ambience':0, 'food_price':1, 'quality':2, 'style':3, 'restaurant':4, 'miscellaneous':5, 'price':6, 'service':7}"
   ]
  },
  {
   "cell_type": "code",
   "execution_count": 7,
   "id": "2a1cbc28",
   "metadata": {},
   "outputs": [],
   "source": [
    "aspects = [ambience,food_price,quality,style,restaurant,miscellaneous,price,service]"
   ]
  },
  {
   "cell_type": "code",
   "execution_count": 9,
   "id": "4d3b25f1",
   "metadata": {},
   "outputs": [],
   "source": [
    "with open(\"./rest_2way_ambience/train.txt\",\"w\") as t:\n",
    "    for dataframe in aspects[1:]:\n",
    "        for i,row in dataframe.iterrows():\n",
    "            sentence = row[0]\n",
    "            t.write(sentence+'\\n')\n",
    "        \n",
    "with open(\"./rest_2way_ambience/test.txt\",\"w\") as t:\n",
    "    for i,row in ambience.iterrows():\n",
    "        sentence = row[0]\n",
    "        polarity = polarity2num[row[1]]\n",
    "        aspect = aspect2num['ambience']\n",
    "        t.write(str(i)+'\\t'+str(aspect)+'\\t'+str(polarity)+'\\t'+sentence+'\\n')"
   ]
  },
  {
   "cell_type": "code",
   "execution_count": 15,
   "id": "fd6bba5b",
   "metadata": {},
   "outputs": [],
   "source": [
    "with open(\"./lap_2way_company/train.txt\",\"w\") as t:\n",
    "    for dataframe in aspects[:1]:\n",
    "        for i,row in dataframe.iterrows():\n",
    "            sentence = row[0]\n",
    "            t.write(sentence+'\\n')\n",
    "    for dataframe in aspects[2:]:\n",
    "        for i,row in dataframe.iterrows():\n",
    "            sentence = row[0]\n",
    "            t.write(sentence+'\\n')\n",
    "        \n",
    "with open(\"./lap_2way_company/test.txt\",\"w\") as t:\n",
    "    for i,row in company.iterrows():\n",
    "        sentence = row[0]\n",
    "        polarity = polarity2num[row[1]]\n",
    "        aspect = aspect2num['company']\n",
    "        t.write(str(i)+'\\t'+str(aspect)+'\\t'+str(polarity)+'\\t'+sentence+'\\n')"
   ]
  },
  {
   "cell_type": "code",
   "execution_count": 16,
   "id": "59554fd1",
   "metadata": {},
   "outputs": [],
   "source": [
    "with open(\"./lap_2way_display/train.txt\",\"w\") as t:\n",
    "    for dataframe in aspects[:2]:\n",
    "        for i,row in dataframe.iterrows():\n",
    "            sentence = row[0]\n",
    "            t.write(sentence+'\\n')\n",
    "    for dataframe in aspects[3:]:\n",
    "        for i,row in dataframe.iterrows():\n",
    "            sentence = row[0]\n",
    "            t.write(sentence+'\\n')\n",
    "        \n",
    "with open(\"./lap_2way_display/test.txt\",\"w\") as t:\n",
    "    for i,row in display.iterrows():\n",
    "        sentence = row[0]\n",
    "        polarity = polarity2num[row[1]]\n",
    "        aspect = aspect2num['display']\n",
    "        t.write(str(i)+'\\t'+str(aspect)+'\\t'+str(polarity)+'\\t'+sentence+'\\n')"
   ]
  },
  {
   "cell_type": "code",
   "execution_count": 17,
   "id": "da852571",
   "metadata": {},
   "outputs": [],
   "source": [
    "with open(\"./lap_2way_connectivity/train.txt\",\"w\") as t:\n",
    "    for dataframe in aspects[:3]:\n",
    "        for i,row in dataframe.iterrows():\n",
    "            sentence = row[0]\n",
    "            t.write(sentence+'\\n')\n",
    "    for dataframe in aspects[4:]:\n",
    "        for i,row in dataframe.iterrows():\n",
    "            sentence = row[0]\n",
    "            t.write(sentence+'\\n')\n",
    "        \n",
    "with open(\"./lap_2way_connectivity/test.txt\",\"w\") as t:\n",
    "    for i,row in connectivity.iterrows():\n",
    "        sentence = row[0]\n",
    "        polarity = polarity2num[row[1]]\n",
    "        aspect = aspect2num['connectivity']\n",
    "        t.write(str(i)+'\\t'+str(aspect)+'\\t'+str(polarity)+'\\t'+sentence+'\\n')"
   ]
  },
  {
   "cell_type": "code",
   "execution_count": 18,
   "id": "eebbd246",
   "metadata": {},
   "outputs": [],
   "source": [
    "with open(\"./lap_2way_design/train.txt\",\"w\") as t:\n",
    "    for dataframe in aspects[:4]:\n",
    "        for i,row in dataframe.iterrows():\n",
    "            sentence = row[0]\n",
    "            t.write(sentence+'\\n')\n",
    "    for dataframe in aspects[5:]:\n",
    "        for i,row in dataframe.iterrows():\n",
    "            sentence = row[0]\n",
    "            t.write(sentence+'\\n')\n",
    "        \n",
    "with open(\"./lap_2way_design/test.txt\",\"w\") as t:\n",
    "    for i,row in design.iterrows():\n",
    "        sentence = row[0]\n",
    "        polarity = polarity2num[row[1]]\n",
    "        aspect = aspect2num['design']\n",
    "        t.write(str(i)+'\\t'+str(aspect)+'\\t'+str(polarity)+'\\t'+sentence+'\\n')"
   ]
  },
  {
   "cell_type": "code",
   "execution_count": 19,
   "id": "465beee3",
   "metadata": {},
   "outputs": [],
   "source": [
    "with open(\"./lap_2way_laptop/train.txt\",\"w\") as t:\n",
    "    for dataframe in aspects[:5]:\n",
    "        for i,row in dataframe.iterrows():\n",
    "            sentence = row[0]\n",
    "            t.write(sentence+'\\n')\n",
    "    for dataframe in aspects[6:]:\n",
    "        for i,row in dataframe.iterrows():\n",
    "            sentence = row[0]\n",
    "            t.write(sentence+'\\n')\n",
    "        \n",
    "with open(\"./lap_2way_laptop/test.txt\",\"w\") as t:\n",
    "    for i,row in laptop.iterrows():\n",
    "        sentence = row[0]\n",
    "        polarity = polarity2num[row[1]]\n",
    "        aspect = aspect2num['laptop']\n",
    "        t.write(str(i)+'\\t'+str(aspect)+'\\t'+str(polarity)+'\\t'+sentence+'\\n')"
   ]
  },
  {
   "cell_type": "code",
   "execution_count": 20,
   "id": "6becfb84",
   "metadata": {},
   "outputs": [],
   "source": [
    "with open(\"./lap_2way_miscellaneous/train.txt\",\"w\") as t:\n",
    "    for dataframe in aspects[:6]:\n",
    "        for i,row in dataframe.iterrows():\n",
    "            sentence = row[0]\n",
    "            t.write(sentence+'\\n')\n",
    "    for dataframe in aspects[7:]:\n",
    "        for i,row in dataframe.iterrows():\n",
    "            sentence = row[0]\n",
    "            t.write(sentence+'\\n')\n",
    "        \n",
    "with open(\"./lap_2way_miscellaneous/test.txt\",\"w\") as t:\n",
    "    for i,row in miscellaneous.iterrows():\n",
    "        sentence = row[0]\n",
    "        polarity = polarity2num[row[1]]\n",
    "        aspect = aspect2num['miscellaneous']\n",
    "        t.write(str(i)+'\\t'+str(aspect)+'\\t'+str(polarity)+'\\t'+sentence+'\\n')"
   ]
  },
  {
   "cell_type": "code",
   "execution_count": 21,
   "id": "6f0c5780",
   "metadata": {},
   "outputs": [],
   "source": [
    "with open(\"./lap_2way_operation/train.txt\",\"w\") as t:\n",
    "    for dataframe in aspects[:7]:\n",
    "        for i,row in dataframe.iterrows():\n",
    "            sentence = row[0]\n",
    "            t.write(sentence+'\\n')\n",
    "    for dataframe in aspects[8:]:\n",
    "        for i,row in dataframe.iterrows():\n",
    "            sentence = row[0]\n",
    "            t.write(sentence+'\\n')\n",
    "        \n",
    "with open(\"./lap_2way_operation/test.txt\",\"w\") as t:\n",
    "    for i,row in operation.iterrows():\n",
    "        sentence = row[0]\n",
    "        polarity = polarity2num[row[1]]\n",
    "        aspect = aspect2num['operation']\n",
    "        t.write(str(i)+'\\t'+str(aspect)+'\\t'+str(polarity)+'\\t'+sentence+'\\n')"
   ]
  },
  {
   "cell_type": "code",
   "execution_count": 22,
   "id": "bb2e5263",
   "metadata": {},
   "outputs": [],
   "source": [
    "with open(\"./lap_2way_price/train.txt\",\"w\") as t:\n",
    "    for dataframe in aspects[:8]:\n",
    "        for i,row in dataframe.iterrows():\n",
    "            sentence = row[0]\n",
    "            t.write(sentence+'\\n')\n",
    "    for dataframe in aspects[9:]:\n",
    "        for i,row in dataframe.iterrows():\n",
    "            sentence = row[0]\n",
    "            t.write(sentence+'\\n')\n",
    "        \n",
    "with open(\"./lap_2way_price/test.txt\",\"w\") as t:\n",
    "    for i,row in price.iterrows():\n",
    "        sentence = row[0]\n",
    "        polarity = polarity2num[row[1]]\n",
    "        aspect = aspect2num['price']\n",
    "        t.write(str(i)+'\\t'+str(aspect)+'\\t'+str(polarity)+'\\t'+sentence+'\\n')"
   ]
  },
  {
   "cell_type": "code",
   "execution_count": 23,
   "id": "2de3d9b3",
   "metadata": {},
   "outputs": [],
   "source": [
    "with open(\"./lap_2way_quality/train.txt\",\"w\") as t:\n",
    "    for dataframe in aspects[:9]:\n",
    "        for i,row in dataframe.iterrows():\n",
    "            sentence = row[0]\n",
    "            t.write(sentence+'\\n')\n",
    "    for dataframe in aspects[10:]:\n",
    "        for i,row in dataframe.iterrows():\n",
    "            sentence = row[0]\n",
    "            t.write(sentence+'\\n')\n",
    "        \n",
    "with open(\"./lap_2way_quality/test.txt\",\"w\") as t:\n",
    "    for i,row in quality.iterrows():\n",
    "        sentence = row[0]\n",
    "        polarity = polarity2num[row[1]]\n",
    "        aspect = aspect2num['quality']\n",
    "        t.write(str(i)+'\\t'+str(aspect)+'\\t'+str(polarity)+'\\t'+sentence+'\\n')"
   ]
  },
  {
   "cell_type": "code",
   "execution_count": 24,
   "id": "cc777522",
   "metadata": {},
   "outputs": [],
   "source": [
    "\n",
    "with open(\"./lap_2way_usability/train.txt\",\"w\") as t:\n",
    "    for dataframe in aspects[:10]:\n",
    "        for i,row in dataframe.iterrows():\n",
    "            sentence = row[0]\n",
    "            t.write(sentence+'\\n')\n",
    "    for dataframe in aspects[11:]:\n",
    "        for i,row in dataframe.iterrows():\n",
    "            sentence = row[0]\n",
    "            t.write(sentence+'\\n')\n",
    "        \n",
    "with open(\"./lap_2way_usability/test.txt\",\"w\") as t:\n",
    "    for i,row in usability.iterrows():\n",
    "        sentence = row[0]\n",
    "        polarity = polarity2num[row[1]]\n",
    "        aspect = aspect2num['usability']\n",
    "        t.write(str(i)+'\\t'+str(aspect)+'\\t'+str(polarity)+'\\t'+sentence+'\\n')"
   ]
  },
  {
   "cell_type": "code",
   "execution_count": 25,
   "id": "2c919b92",
   "metadata": {},
   "outputs": [],
   "source": [
    "\n",
    "with open(\"./lap_2way_support/train.txt\",\"w\") as t:\n",
    "    for dataframe in aspects[:11]:\n",
    "        for i,row in dataframe.iterrows():\n",
    "            sentence = row[0]\n",
    "            t.write(sentence+'\\n')\n",
    "\n",
    "with open(\"./lap_2way_support/test.txt\",\"w\") as t:\n",
    "    for i,row in support.iterrows():\n",
    "        sentence = row[0]\n",
    "        polarity = polarity2num[row[1]]\n",
    "        aspect = aspect2num['support']\n",
    "        t.write(str(i)+'\\t'+str(aspect)+'\\t'+str(polarity)+'\\t'+sentence+'\\n')"
   ]
  },
  {
   "cell_type": "code",
   "execution_count": null,
   "id": "6a928314",
   "metadata": {},
   "outputs": [],
   "source": []
  }
 ],
 "metadata": {
  "kernelspec": {
   "display_name": "Python 3",
   "language": "python",
   "name": "python3"
  },
  "language_info": {
   "codemirror_mode": {
    "name": "ipython",
    "version": 3
   },
   "file_extension": ".py",
   "mimetype": "text/x-python",
   "name": "python",
   "nbconvert_exporter": "python",
   "pygments_lexer": "ipython3",
   "version": "3.7.4"
  }
 },
 "nbformat": 4,
 "nbformat_minor": 5
}
