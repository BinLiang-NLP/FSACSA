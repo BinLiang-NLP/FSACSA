{
 "cells": [
  {
   "cell_type": "code",
   "execution_count": 1,
   "id": "153c22b0",
   "metadata": {},
   "outputs": [],
   "source": [
    "import pandas as pd"
   ]
  },
  {
   "cell_type": "code",
   "execution_count": 5,
   "id": "82802820",
   "metadata": {},
   "outputs": [],
   "source": [
    "def read_file(address):\n",
    "    return pd.read_csv(address, sep=\"\\t\", header=None, names=['sentence','polarity'])"
   ]
  },
  {
   "cell_type": "code",
   "execution_count": 6,
   "id": "6abdccb7",
   "metadata": {},
   "outputs": [],
   "source": [
    "ambience = read_file(\"./ambience\")\n",
    "anecdotes = read_file(\"./anecdotes_miscellaneous\")\n",
    "food = read_file(\"./food\")\n",
    "service = read_file(\"./service\")"
   ]
  },
  {
   "cell_type": "code",
   "execution_count": 13,
   "id": "b2696d09",
   "metadata": {},
   "outputs": [
    {
     "data": {
      "text/plain": [
       "916"
      ]
     },
     "execution_count": 13,
     "metadata": {},
     "output_type": "execute_result"
    }
   ],
   "source": [
    "ambience.size"
   ]
  },
  {
   "cell_type": "code",
   "execution_count": 14,
   "id": "c83f3b37",
   "metadata": {},
   "outputs": [
    {
     "data": {
      "text/plain": [
       "1814"
      ]
     },
     "execution_count": 14,
     "metadata": {},
     "output_type": "execute_result"
    }
   ],
   "source": [
    "anecdotes.size"
   ]
  },
  {
   "cell_type": "code",
   "execution_count": 15,
   "id": "22deeed9",
   "metadata": {},
   "outputs": [
    {
     "data": {
      "text/plain": [
       "2888"
      ]
     },
     "execution_count": 15,
     "metadata": {},
     "output_type": "execute_result"
    }
   ],
   "source": [
    "food.size"
   ]
  },
  {
   "cell_type": "code",
   "execution_count": 16,
   "id": "386bca6b",
   "metadata": {},
   "outputs": [
    {
     "data": {
      "text/plain": [
       "1410"
      ]
     },
     "execution_count": 16,
     "metadata": {},
     "output_type": "execute_result"
    }
   ],
   "source": [
    "service.size"
   ]
  },
  {
   "cell_type": "code",
   "execution_count": 17,
   "id": "4e024a5c",
   "metadata": {},
   "outputs": [],
   "source": [
    "train_1 = anecdotes.merge(service,how='outer')"
   ]
  },
  {
   "cell_type": "code",
   "execution_count": 21,
   "id": "09cc489a",
   "metadata": {},
   "outputs": [],
   "source": [
    "with open(\"./rest14_ambience/train.txt\",\"w\") as t:\n",
    "    for i,row in anecdotes.iterrows():\n",
    "        sentence = row[0]\n",
    "        t.write(sentence+'\\n')\n",
    "    for i,row in food.iterrows():\n",
    "        sentence = row[0]\n",
    "        t.write(sentence+'\\n')\n",
    "    for i,row in service.iterrows():\n",
    "        sentence = row[0]\n",
    "        t.write(sentence+'\\n')"
   ]
  },
  {
   "cell_type": "code",
   "execution_count": 22,
   "id": "f3454e54",
   "metadata": {},
   "outputs": [],
   "source": [
    "polarity2num = {'positive':0,'negative':1}"
   ]
  },
  {
   "cell_type": "code",
   "execution_count": 23,
   "id": "62da97f0",
   "metadata": {},
   "outputs": [],
   "source": [
    "aspect2num = {'food':0, 'anecdotes_miscellaneous':1, 'service':2, 'ambience':3}"
   ]
  },
  {
   "cell_type": "code",
   "execution_count": 25,
   "id": "9a39c023",
   "metadata": {},
   "outputs": [],
   "source": [
    "with open(\"./rest14_ambience/test.txt\",\"w\") as t:\n",
    "    for i,row in ambience.iterrows():\n",
    "        sentence = row[0]\n",
    "        polarity = polarity2num[row[1]]\n",
    "        aspect = aspect2num['ambience']\n",
    "        t.write(str(i)+'\\t'+str(aspect)+'\\t'+str(polarity)+'\\t'+sentence+'\\n')\n",
    "        "
   ]
  },
  {
   "cell_type": "code",
   "execution_count": null,
   "id": "11a27fbc",
   "metadata": {},
   "outputs": [],
   "source": []
  },
  {
   "cell_type": "code",
   "execution_count": 26,
   "id": "f5bf6a2b",
   "metadata": {},
   "outputs": [],
   "source": [
    "with open(\"./rest14_anecdotes/train.txt\",\"w\") as t:\n",
    "    for i,row in ambience.iterrows():\n",
    "        sentence = row[0]\n",
    "        t.write(sentence+'\\n')\n",
    "    for i,row in food.iterrows():\n",
    "        sentence = row[0]\n",
    "        t.write(sentence+'\\n')\n",
    "    for i,row in service.iterrows():\n",
    "        sentence = row[0]\n",
    "        t.write(sentence+'\\n')\n",
    "        \n",
    "with open(\"./rest14_anecdotes/test.txt\",\"w\") as t:\n",
    "    for i,row in anecdotes.iterrows():\n",
    "        sentence = row[0]\n",
    "        polarity = polarity2num[row[1]]\n",
    "        aspect = aspect2num['anecdotes_miscellaneous']\n",
    "        t.write(str(i)+'\\t'+str(aspect)+'\\t'+str(polarity)+'\\t'+sentence+'\\n')"
   ]
  },
  {
   "cell_type": "code",
   "execution_count": 27,
   "id": "2daef5c0",
   "metadata": {},
   "outputs": [],
   "source": [
    "with open(\"./rest14_food/train.txt\",\"w\") as t:\n",
    "    for i,row in ambience.iterrows():\n",
    "        sentence = row[0]\n",
    "        t.write(sentence+'\\n')\n",
    "    for i,row in anecdotes.iterrows():\n",
    "        sentence = row[0]\n",
    "        t.write(sentence+'\\n')\n",
    "    for i,row in service.iterrows():\n",
    "        sentence = row[0]\n",
    "        t.write(sentence+'\\n')\n",
    "        \n",
    "with open(\"./rest14_food/test.txt\",\"w\") as t:\n",
    "    for i,row in food.iterrows():\n",
    "        sentence = row[0]\n",
    "        polarity = polarity2num[row[1]]\n",
    "        aspect = aspect2num['food']\n",
    "        t.write(str(i)+'\\t'+str(aspect)+'\\t'+str(polarity)+'\\t'+sentence+'\\n')"
   ]
  },
  {
   "cell_type": "code",
   "execution_count": 28,
   "id": "8879e873",
   "metadata": {},
   "outputs": [],
   "source": [
    "with open(\"./rest14_service/train.txt\",\"w\") as t:\n",
    "    for i,row in ambience.iterrows():\n",
    "        sentence = row[0]\n",
    "        t.write(sentence+'\\n')\n",
    "    for i,row in anecdotes.iterrows():\n",
    "        sentence = row[0]\n",
    "        t.write(sentence+'\\n')\n",
    "    for i,row in food.iterrows():\n",
    "        sentence = row[0]\n",
    "        t.write(sentence+'\\n')\n",
    "        \n",
    "with open(\"./rest14_service/test.txt\",\"w\") as t:\n",
    "    for i,row in service.iterrows():\n",
    "        sentence = row[0]\n",
    "        polarity = polarity2num[row[1]]\n",
    "        aspect = aspect2num['service']\n",
    "        t.write(str(i)+'\\t'+str(aspect)+'\\t'+str(polarity)+'\\t'+sentence+'\\n')"
   ]
  },
  {
   "cell_type": "code",
   "execution_count": null,
   "id": "1b1dfb08",
   "metadata": {},
   "outputs": [],
   "source": []
  }
 ],
 "metadata": {
  "kernelspec": {
   "display_name": "Python 3",
   "language": "python",
   "name": "python3"
  },
  "language_info": {
   "codemirror_mode": {
    "name": "ipython",
    "version": 3
   },
   "file_extension": ".py",
   "mimetype": "text/x-python",
   "name": "python",
   "nbconvert_exporter": "python",
   "pygments_lexer": "ipython3",
   "version": "3.7.4"
  }
 },
 "nbformat": 4,
 "nbformat_minor": 5
}
